{
  "nbformat": 4,
  "nbformat_minor": 0,
  "metadata": {
    "colab": {
      "name": "Clustering,ARL and RL.ipynb",
      "provenance": [],
      "collapsed_sections": [],
      "toc_visible": true
    },
    "kernelspec": {
      "name": "python3",
      "display_name": "Python 3"
    }
  },
  "cells": [
    {
      "cell_type": "code",
      "metadata": {
        "id": "Pt-bz0iUd4uv",
        "colab_type": "code",
        "colab": {
          "base_uri": "https://localhost:8080/",
          "height": 124
        },
        "outputId": "e984ebf4-a6e2-4f10-fba7-fbe2debc2cca"
      },
      "source": [
        "from google.colab import drive\n",
        "drive.mount('/content/drive')"
      ],
      "execution_count": 1,
      "outputs": [
        {
          "output_type": "stream",
          "text": [
            "Go to this URL in a browser: https://accounts.google.com/o/oauth2/auth?client_id=947318989803-6bn6qk8qdgf4n4g3pfee6491hc0brc4i.apps.googleusercontent.com&redirect_uri=urn%3aietf%3awg%3aoauth%3a2.0%3aoob&response_type=code&scope=email%20https%3a%2f%2fwww.googleapis.com%2fauth%2fdocs.test%20https%3a%2f%2fwww.googleapis.com%2fauth%2fdrive%20https%3a%2f%2fwww.googleapis.com%2fauth%2fdrive.photos.readonly%20https%3a%2f%2fwww.googleapis.com%2fauth%2fpeopleapi.readonly\n",
            "\n",
            "Enter your authorization code:\n",
            "··········\n",
            "Mounted at /content/drive\n"
          ],
          "name": "stdout"
        }
      ]
    },
    {
      "cell_type": "code",
      "metadata": {
        "id": "qo6kHVvqgdBj",
        "colab_type": "code",
        "colab": {}
      },
      "source": [
        "!pip install apyori"
      ],
      "execution_count": 0,
      "outputs": []
    },
    {
      "cell_type": "code",
      "metadata": {
        "id": "rT_CaCPOet7-",
        "colab_type": "code",
        "colab": {}
      },
      "source": [
        "import pandas as pd\n",
        "import numpy as np\n",
        "import matplotlib.pyplot as plt\n",
        "from sklearn.cluster import KMeans\n",
        "import scipy.cluster.hierarchy as sch\n",
        "from sklearn.cluster import AgglomerativeClustering\n",
        "from apyori import apriori\n",
        "import random\n",
        "import math"
      ],
      "execution_count": 0,
      "outputs": []
    },
    {
      "cell_type": "markdown",
      "metadata": {
        "id": "9tJHXvLvUMvl",
        "colab_type": "text"
      },
      "source": [
        "More clusters less wcss so for best model fit wcss should be small and clusters should be high\n",
        "but what is optimal no?\n",
        "check elbow in graph"
      ]
    },
    {
      "cell_type": "code",
      "metadata": {
        "id": "S_Gz5Awie4Sg",
        "colab_type": "code",
        "colab": {}
      },
      "source": [
        "dataset=pd.read_csv('/content/drive/My Drive/Mall_Customers.csv')\n",
        "X=dataset.iloc[:,[3,4]].values\n"
      ],
      "execution_count": 0,
      "outputs": []
    },
    {
      "cell_type": "code",
      "metadata": {
        "id": "1YD8fKRtWOA5",
        "colab_type": "code",
        "colab": {}
      },
      "source": [
        "wcss=[]\n",
        "for i in range(1,11):\n",
        "  kmeans=KMeans(n_clusters=i,init='k-means++',max_iter=300,random_state=0)\n",
        "  kmeans.fit(X)\n",
        "  wcss.append(kmeans.inertia_)\n",
        "plt.plot(range(1,11),wcss)\n",
        "plt.title('elbow method')\n",
        "plt.xlabel('no. of clusters')\n",
        "plt.ylabel('wcss')\n",
        "plt.show()   # so optimal is 5"
      ],
      "execution_count": 0,
      "outputs": []
    },
    {
      "cell_type": "code",
      "metadata": {
        "id": "TSWuiMRGaSbN",
        "colab_type": "code",
        "colab": {}
      },
      "source": [
        "kmeans=KMeans(n_clusters=5,init='k-means++',max_iter=300,random_state=0)\n",
        "y_kmeans=kmeans.fit_predict(X)\n",
        "y_kmeans"
      ],
      "execution_count": 0,
      "outputs": []
    },
    {
      "cell_type": "code",
      "metadata": {
        "id": "PsXCMfusZ1sG",
        "colab_type": "code",
        "colab": {}
      },
      "source": [
        "plt.scatter(X[y_kmeans==0,0],X[y_kmeans==0,1],s=100,c='red',label='careful')\n",
        "plt.scatter(X[y_kmeans==1,0],X[y_kmeans==1,1],s=100,c='blue',label='standard')\n",
        "plt.scatter(X[y_kmeans==2,0],X[y_kmeans==2,1],s=100,c='green',label='targets')\n",
        "plt.scatter(X[y_kmeans==3,0],X[y_kmeans==3,1],s=100,c='cyan',label='careless')\n",
        "plt.scatter(X[y_kmeans==4,0],X[y_kmeans==4,1],s=100,c='magenta',label='sensible')\n",
        "plt.scatter(kmeans.cluster_centers_[:,0],kmeans.cluster_centers_[:,1],s=300,c='yellow',label='centroids')\n",
        "plt.legend()\n",
        "plt.show()"
      ],
      "execution_count": 0,
      "outputs": []
    },
    {
      "cell_type": "markdown",
      "metadata": {
        "id": "da_TI7Tlci0U",
        "colab_type": "text"
      },
      "source": [
        "**HIERARCHICAL CLUSTERING**\n",
        "TAKE n clusters of n data points chose two closest make one cluster then choose two close make one till only one cluster is left\n",
        "Dist btw two points measure dissimilarity\n",
        "sets threshold for clusters\n",
        "cannot choose vertical line that horizontal line can cross\n",
        "optimal->longest vert line so that no horizontal can cross\n",
        "and no of clusters is no. of vert line crossing threshold horz line"
      ]
    },
    {
      "cell_type": "code",
      "metadata": {
        "id": "6xnwTo3tclu1",
        "colab_type": "code",
        "colab": {}
      },
      "source": [
        "#finding optimal no. of clusters\n",
        "dendrogram=sch.dendrogram(sch.linkage(X,method='ward')) # ward means minimizing the variance\n",
        "plt.title('Dendrogram')\n",
        "plt.xlabel('customers')\n",
        "plt.ylabel('euclidean')\n",
        "plt.show()  #highest vert line is green and no. of vert lines crossing is 5 so optimal=5\n",
        "# dendrogram is of type dict"
      ],
      "execution_count": 0,
      "outputs": []
    },
    {
      "cell_type": "code",
      "metadata": {
        "id": "ImiEJGAOtliT",
        "colab_type": "code",
        "colab": {}
      },
      "source": [
        "hc=AgglomerativeClustering(n_clusters=5,affinity='euclidean',linkage='ward')\n",
        "y_hc=hc.fit_predict(X)\n",
        "y_hc"
      ],
      "execution_count": 0,
      "outputs": []
    },
    {
      "cell_type": "code",
      "metadata": {
        "id": "1HzSQ1YTtllR",
        "colab_type": "code",
        "colab": {}
      },
      "source": [
        "plt.scatter(X[y_hc==0,0],X[y_hc==0,1],s=100,c='red',label='careful')\n",
        "plt.scatter(X[y_hc==1,0],X[y_hc==1,1],s=100,c='blue',label='standard')\n",
        "plt.scatter(X[y_hc==2,0],X[y_hc==2,1],s=100,c='green',label='targets')\n",
        "plt.scatter(X[y_hc==3,0],X[y_hc==3,1],s=100,c='cyan',label='careless')\n",
        "plt.scatter(X[y_hc==4,0],X[y_hc==4,1],s=100,c='magenta',label='sensible')\n",
        "plt.legend()\n",
        "plt.show()"
      ],
      "execution_count": 0,
      "outputs": []
    },
    {
      "cell_type": "markdown",
      "metadata": {
        "id": "ghcEiiPAweE-",
        "colab_type": "text"
      },
      "source": [
        "# **ASSOCIATIVE RULE LEARNING**"
      ]
    },
    {
      "cell_type": "markdown",
      "metadata": {
        "id": "fZegdIeLwrj2",
        "colab_type": "text"
      },
      "source": [
        "**APRIORI ALGORITHM**\n",
        "FIND SUPPORT,CONFIDENCE AND LIFT\n",
        "ALGO->SET MIN SUPPORT AND CONF\n",
        "TAKE ALL SUBSETS HAVING MORE SUPPORT THAN MIN\n",
        "TAKE ALL RULES HAVING MORE CONF THAN MIN\n",
        "SORT BY DEC LIFT"
      ]
    },
    {
      "cell_type": "code",
      "metadata": {
        "id": "mT_4NTWA1Dkt",
        "colab_type": "code",
        "colab": {}
      },
      "source": [
        "df=pd.read_csv('/content/drive/My Drive/Market_Basket_Optimisation.csv',header=None) #header none means titles not mentioned as column names"
      ],
      "execution_count": 0,
      "outputs": []
    },
    {
      "cell_type": "code",
      "metadata": {
        "id": "hKOReBZESKHP",
        "colab_type": "code",
        "colab": {}
      },
      "source": [
        "#making dataset list of lists\n",
        "transactions=[]\n",
        "for i in range(0,7501):\n",
        "  transactions.append(str(df.values[i,j]) for j in range(0,20))\n"
      ],
      "execution_count": 0,
      "outputs": []
    },
    {
      "cell_type": "code",
      "metadata": {
        "id": "cbPG8aoIUfEc",
        "colab_type": "code",
        "colab": {}
      },
      "source": [
        "# training apriori \n",
        "rules=apriori(transactions,min_support=0.003,min_confidence=0.2,min_lift=3,min_length=2)  # min support=3*7/7500 where 3 or 4 is initial assumption\n"
      ],
      "execution_count": 0,
      "outputs": []
    },
    {
      "cell_type": "code",
      "metadata": {
        "id": "7plW8QliZsMh",
        "colab_type": "code",
        "colab": {}
      },
      "source": [
        "# visualizing the results\n",
        "results=list(rules)"
      ],
      "execution_count": 0,
      "outputs": []
    },
    {
      "cell_type": "markdown",
      "metadata": {
        "id": "pkEh6eHqb1NQ",
        "colab_type": "text"
      },
      "source": [
        "# **REINFORCEMENT LEARNING**"
      ]
    },
    {
      "cell_type": "markdown",
      "metadata": {
        "id": "P_hz6rntcAzk",
        "colab_type": "text"
      },
      "source": [
        "**UPPER CONFIDENCE BOUND**\n"
      ]
    },
    {
      "cell_type": "code",
      "metadata": {
        "id": "1Nr-lQ7wnBwb",
        "colab_type": "code",
        "colab": {}
      },
      "source": [
        "dataset_1=pd.read_csv('/content/drive/My Drive/Ads_CTR_Optimisation.csv')"
      ],
      "execution_count": 0,
      "outputs": []
    },
    {
      "cell_type": "markdown",
      "metadata": {
        "id": "ei-lMEpun2kY",
        "colab_type": "text"
      },
      "source": [
        "VISUALIZING THE ADS"
      ]
    },
    {
      "cell_type": "code",
      "metadata": {
        "id": "KLXNbv25mhi5",
        "colab_type": "code",
        "colab": {}
      },
      "source": [
        "# random selection\n",
        "N=10000\n",
        "d=10\n",
        "ads_s=[]\n",
        "reward=0\n",
        "total_reward=0\n",
        "for n in range(0,N):\n",
        "  ad=random.randrange(d)\n",
        "  ads_s.append(ad)\n",
        "  reward=dataset_1.values[n,ad]\n",
        "  total_reward=total_reward+reward\n",
        "total_reward\n"
      ],
      "execution_count": 0,
      "outputs": []
    },
    {
      "cell_type": "code",
      "metadata": {
        "id": "rj3fFfzqnKn-",
        "colab_type": "code",
        "colab": {}
      },
      "source": [
        "# visualization\n",
        "plt.hist(ads_s)\n",
        "plt.title('histogram of ads selected')\n",
        "plt.show()"
      ],
      "execution_count": 0,
      "outputs": []
    },
    {
      "cell_type": "markdown",
      "metadata": {
        "id": "jg9C5u8ioFTp",
        "colab_type": "text"
      },
      "source": [
        "ALGORITHM CONTINUES"
      ]
    },
    {
      "cell_type": "code",
      "metadata": {
        "id": "qk9ZiYZ4oHZg",
        "colab_type": "code",
        "colab": {}
      },
      "source": [
        "# UCB algo\n",
        "N=10000\n",
        "d=10\n",
        "selections=[0]*d\n",
        "sum_of_rewards=[0]*d\n",
        "ads_selected=[]\n",
        "total_reward=0\n",
        "for n in range(0,N):\n",
        "  ad=0\n",
        "  max_upper_bound=0\n",
        "  for i in range(0,d):\n",
        "    if(selections[i]>0):\n",
        "      average_reward=sum_of_rewards[i]/selections[i]\n",
        "      delta_i=math.sqrt(3/2*math.log(n+1)/selections[i])\n",
        "      upper_bound=average_reward+delta_i\n",
        "    else:\n",
        "      upper_bound=1e400\n",
        "    if upper_bound>max_upper_bound:\n",
        "      max_upper_bound=upper_bound\n",
        "      ad=i\n",
        "  ads_selected.append(ad)\n",
        "  selections[ad]=selections[ad]+1\n",
        "  reward=dataset_1.values[n,ad]\n",
        "  sum_of_rewards[ad]=sum_of_rewards[ad]+reward\n",
        "  total_reward=total_reward+reward\n",
        "# by visualizing ads_selected ad 4 is coming more frequently in last iterations so ad5 is best"
      ],
      "execution_count": 0,
      "outputs": []
    },
    {
      "cell_type": "code",
      "metadata": {
        "id": "3ZV6avTbycFI",
        "colab_type": "code",
        "colab": {}
      },
      "source": [
        "# visualizing results\n",
        "plt.hist(ads_selected)\n",
        "plt.title('histogram of ads selected')\n",
        "plt.show()"
      ],
      "execution_count": 0,
      "outputs": []
    },
    {
      "cell_type": "markdown",
      "metadata": {
        "id": "rr6U07mIzomG",
        "colab_type": "text"
      },
      "source": [
        "**THOMPSON SAMPLING**\n"
      ]
    },
    {
      "cell_type": "code",
      "metadata": {
        "id": "gxoaD2aRzu_7",
        "colab_type": "code",
        "colab": {}
      },
      "source": [
        "N=10000\n",
        "d=10\n",
        "number_of_rewards_1=[0]*d\n",
        "number_of_rewards_0=[0]*d\n",
        "ads_selected=[]\n",
        "total_reward=0\n",
        "for n in range(0,N):\n",
        "  ad=0\n",
        "  max_random=0\n",
        "  for i in range(0,d):\n",
        "    random_beta=random.betavariate(number_of_rewards_1[i]+1,number_of_rewards_0[i]+1)\n",
        "    if random_beta>max_random:\n",
        "      max_random=random_beta\n",
        "      ad=i\n",
        "  ads_selected.append(ad)\n",
        "  reward=dataset_1.values[n,ad]\n",
        "  if reward==1:\n",
        "    number_of_rewards_1[ad]=number_of_rewards_1[ad]+1\n",
        "  else:\n",
        "    number_of_rewards_0[ad]=number_of_rewards_0[ad]+1\n",
        "  total_reward=total_reward+reward\n",
        "total_reward"
      ],
      "execution_count": 0,
      "outputs": []
    },
    {
      "cell_type": "code",
      "metadata": {
        "id": "m8Z5Mo0rDT-0",
        "colab_type": "code",
        "colab": {}
      },
      "source": [
        "plt.hist(ads_selected)\n",
        "plt.title('histogram of ads selected')\n",
        "plt.show()"
      ],
      "execution_count": 0,
      "outputs": []
    }
  ]
}